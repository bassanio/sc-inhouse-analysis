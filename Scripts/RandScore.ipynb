{
 "cells": [
  {
   "cell_type": "code",
   "execution_count": null,
   "id": "eb31761a",
   "metadata": {},
   "outputs": [],
   "source": [
    "import pandas as pd\n",
    "from sklearn.metrics import adjusted_rand_score"
   ]
  },
  {
   "cell_type": "code",
   "execution_count": null,
   "id": "4026ed75",
   "metadata": {},
   "outputs": [],
   "source": [
    "# Load the cluster assignments\n",
    "df = pd.read_csv(\"/Users/mv83/Documents/NYUAD/Malaria/MoFu_SC/Compare/common_cluster_assignments.csv\")"
   ]
  },
  {
   "cell_type": "code",
   "execution_count": null,
   "id": "042346fb",
   "metadata": {},
   "outputs": [],
   "source": [
    "harmony_clusters = df['harmony_clusters']\n",
    "filtered_clusters = df['filtered_clusters']\n",
    "\n",
    "# Calculate Adjusted Rand Index\n",
    "ari_score = adjusted_rand_score(harmony_clusters, filtered_clusters)"
   ]
  },
  {
   "cell_type": "code",
   "execution_count": null,
   "id": "c10bb147",
   "metadata": {},
   "outputs": [],
   "source": [
    "print(f\"Adjusted Rand Index: {ari_score}\")"
   ]
  },
  {
   "cell_type": "code",
   "execution_count": null,
   "id": "796977f1",
   "metadata": {},
   "outputs": [],
   "source": [
    "contingency_table = pd.crosstab(harmony_clusters, filtered_clusters)\n",
    "contingency_table.to_excel(\"contingency_table.xlsx\", sheet_name=\"Cluster Comparison\")"
   ]
  }
 ],
 "metadata": {
  "kernelspec": {
   "display_name": "Python 3 (ipykernel)",
   "language": "python",
   "name": "python3"
  },
  "language_info": {
   "codemirror_mode": {
    "name": "ipython",
    "version": 3
   },
   "file_extension": ".py",
   "mimetype": "text/x-python",
   "name": "python",
   "nbconvert_exporter": "python",
   "pygments_lexer": "ipython3",
   "version": "3.11.7"
  }
 },
 "nbformat": 4,
 "nbformat_minor": 5
}
